{
 "cells": [
  {
   "cell_type": "code",
   "execution_count": 1,
   "source": [
    "from astropy.time import Time "
   ],
   "outputs": [],
   "metadata": {}
  },
  {
   "cell_type": "code",
   "execution_count": 7,
   "source": [
    "time = Time.now()\n",
    "print(time) #Time object: scale = utc, format = datetime"
   ],
   "outputs": [
    {
     "output_type": "stream",
     "name": "stdout",
     "text": [
      "2024-11-11 17:59:12.613093\n"
     ]
    }
   ],
   "metadata": {}
  },
  {
   "cell_type": "code",
   "execution_count": 8,
   "source": [
    "time.SCALES"
   ],
   "outputs": [
    {
     "output_type": "execute_result",
     "data": {
      "text/plain": [
       "('tai', 'tcb', 'tcg', 'tdb', 'tt', 'ut1', 'utc')"
      ]
     },
     "metadata": {},
     "execution_count": 8
    }
   ],
   "metadata": {}
  },
  {
   "cell_type": "code",
   "execution_count": 9,
   "source": [
    "time.FORMATS"
   ],
   "outputs": [
    {
     "output_type": "execute_result",
     "data": {
      "text/plain": [
       "OrderedDict([('jd', astropy.time.formats.TimeJD),\n",
       "             ('mjd', astropy.time.formats.TimeMJD),\n",
       "             ('decimalyear', astropy.time.formats.TimeDecimalYear),\n",
       "             ('unix', astropy.time.formats.TimeUnix),\n",
       "             ('unix_tai', astropy.time.formats.TimeUnixTai),\n",
       "             ('cxcsec', astropy.time.formats.TimeCxcSec),\n",
       "             ('gps', astropy.time.formats.TimeGPS),\n",
       "             ('plot_date', astropy.time.formats.TimePlotDate),\n",
       "             ('stardate', astropy.time.formats.TimeStardate),\n",
       "             ('datetime', astropy.time.formats.TimeDatetime),\n",
       "             ('ymdhms', astropy.time.formats.TimeYMDHMS),\n",
       "             ('iso', astropy.time.formats.TimeISO),\n",
       "             ('isot', astropy.time.formats.TimeISOT),\n",
       "             ('yday', astropy.time.formats.TimeYearDayTime),\n",
       "             ('datetime64', astropy.time.formats.TimeDatetime64),\n",
       "             ('fits', astropy.time.formats.TimeFITS),\n",
       "             ('byear', astropy.time.formats.TimeBesselianEpoch),\n",
       "             ('jyear', astropy.time.formats.TimeJulianEpoch),\n",
       "             ('byear_str', astropy.time.formats.TimeBesselianEpochString),\n",
       "             ('jyear_str', astropy.time.formats.TimeJulianEpochString)])"
      ]
     },
     "metadata": {},
     "execution_count": 9
    }
   ],
   "metadata": {}
  },
  {
   "cell_type": "code",
   "execution_count": 13,
   "source": [
    "time_after = time.now()\n",
    "\n",
    "time_final = time-time_after\n",
    "\n",
    "time_final # Time Delta object scale = tai format = jd \n",
    "print(time_final)"
   ],
   "outputs": [
    {
     "output_type": "stream",
     "name": "stdout",
     "text": [
      "-0.0016751421874999783\n"
     ]
    }
   ],
   "metadata": {}
  },
  {
   "cell_type": "code",
   "execution_count": 15,
   "source": [
    "from astropy import units as u "
   ],
   "outputs": [],
   "metadata": {}
  },
  {
   "cell_type": "code",
   "execution_count": 18,
   "source": [
    "v = 35 * u.m/u.s\n",
    "v"
   ],
   "outputs": [
    {
     "output_type": "execute_result",
     "data": {
      "text/latex": [
       "$35 \\; \\mathrm{\\frac{m}{s}}$"
      ],
      "text/plain": [
       "<Quantity 35. m / s>"
      ]
     },
     "metadata": {},
     "execution_count": 18
    }
   ],
   "metadata": {}
  },
  {
   "cell_type": "code",
   "execution_count": 20,
   "source": [
    "from astropy import constants as cts "
   ],
   "outputs": [],
   "metadata": {}
  },
  {
   "cell_type": "code",
   "execution_count": 21,
   "source": [
    "cts.c.cgs"
   ],
   "outputs": [
    {
     "output_type": "execute_result",
     "data": {
      "text/latex": [
       "$2.9979246 \\times 10^{10} \\; \\mathrm{\\frac{cm}{s}}$"
      ],
      "text/plain": [
       "<Quantity 2.99792458e+10 cm / s>"
      ]
     },
     "metadata": {},
     "execution_count": 21
    }
   ],
   "metadata": {}
  },
  {
   "cell_type": "code",
   "execution_count": 22,
   "source": [
    "cts.e.emu"
   ],
   "outputs": [
    {
     "output_type": "execute_result",
     "data": {
      "text/latex": [
       "$1.6021766 \\times 10^{-20} \\; \\mathrm{abC}$"
      ],
      "text/plain": [
       "<<class 'astropy.constants.codata2018.EMCODATA2018'> name='Electron charge' value=1.6021766339999998e-20 uncertainty=0.0 unit='abC' reference='CODATA 2018'>"
      ]
     },
     "metadata": {},
     "execution_count": 22
    }
   ],
   "metadata": {}
  },
  {
   "cell_type": "code",
   "execution_count": 25,
   "source": [
    "from astropy.coordinates import EarthLocation, get_body, AltAz, solar_system_ephemeris"
   ],
   "outputs": [],
   "metadata": {}
  },
  {
   "cell_type": "code",
   "execution_count": 26,
   "source": [
    "# posicao do sol no instante que você está \n",
    "def casleo(): \n",
    "    long = 69.32 * u.deg\n",
    "    lat = -31.8 * u.deg\n",
    "    height = 2.5e3 *u.m\n",
    "    return EarthLocation.from_geodetic(long,lat,height)\n"
   ],
   "outputs": [],
   "metadata": {}
  },
  {
   "cell_type": "code",
   "execution_count": 27,
   "source": [
    "casleo()"
   ],
   "outputs": [
    {
     "output_type": "execute_result",
     "data": {
      "text/latex": [
       "$(1916854.4, 5078168.1, -3342921.2) \\; \\mathrm{m}$"
      ],
      "text/plain": [
       "<EarthLocation (1916854.35882905, 5078168.06418012, -3342921.17772743) m>"
      ]
     },
     "metadata": {},
     "execution_count": 27
    }
   ],
   "metadata": {}
  },
  {
   "cell_type": "markdown",
   "source": [
    "### Install JPL Data"
   ],
   "metadata": {}
  },
  {
   "cell_type": "code",
   "execution_count": 31,
   "source": [
    "pip install jpl.ephem"
   ],
   "outputs": [],
   "metadata": {}
  },
  {
   "cell_type": "code",
   "execution_count": null,
   "source": [
    "# pip install jpl.ephem\n",
    "with solar_system_ephemeris.set('jpl'): \n",
    "    sun_radec = get_body('sun', time)"
   ],
   "outputs": [],
   "metadata": {}
  },
  {
   "cell_type": "code",
   "execution_count": null,
   "source": [
    "aa=AltAz(location=casleo(),obstime=t)\n",
    "sun_radec.transform_to(aa)"
   ],
   "outputs": [],
   "metadata": {}
  },
  {
   "cell_type": "markdown",
   "source": [
    "### How to install sunpy"
   ],
   "metadata": {}
  },
  {
   "cell_type": "code",
   "execution_count": null,
   "source": [
    "pip install sunpy[all]"
   ],
   "outputs": [],
   "metadata": {}
  },
  {
   "cell_type": "code",
   "execution_count": null,
   "source": [
    "from sunpy import timeseries as ts\n",
    "from sunpy.net import Fido\n",
    "from sunpy.net import attrs as a\n",
    "from astropy import units as u\n",
    "from astropy.time import Time"
   ],
   "outputs": [],
   "metadata": {}
  },
  {
   "cell_type": "code",
   "execution_count": null,
   "source": [
    "tstart='2012-05-09 00:00:00'\n",
    "tend='2012-05-10 23:59:59'\n",
    "table, = Fido.search(a.Time(tstart,tend),a.Instrument('XRS'))\n",
    "table "
   ],
   "outputs": [],
   "metadata": {}
  },
  {
   "cell_type": "code",
   "execution_count": null,
   "source": [
    "file=Fido.fetch(table[2:])"
   ],
   "outputs": [],
   "metadata": {}
  },
  {
   "cell_type": "code",
   "execution_count": null,
   "source": [
    "goes=ts.TimeSeries(file,concatenate=True)\n",
    "goes.peek()"
   ],
   "outputs": [],
   "metadata": {}
  }
 ],
 "metadata": {
  "orig_nbformat": 4,
  "language_info": {
   "name": "python",
   "version": "3.9.10",
   "mimetype": "text/x-python",
   "codemirror_mode": {
    "name": "ipython",
    "version": 3
   },
   "pygments_lexer": "ipython3",
   "nbconvert_exporter": "python",
   "file_extension": ".py"
  },
  "kernelspec": {
   "name": "python3",
   "display_name": "Python 3.9.10 64-bit"
  },
  "interpreter": {
   "hash": "aee8b7b246df8f9039afb4144a1f6fd8d2ca17a180786b69acc140d282b71a49"
  }
 },
 "nbformat": 4,
 "nbformat_minor": 2
}