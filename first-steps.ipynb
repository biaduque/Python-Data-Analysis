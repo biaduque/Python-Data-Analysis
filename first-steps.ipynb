{
 "cells": [
  {
   "cell_type": "markdown",
   "source": [
    "# Contextualização\n",
    "\n",
    "Aqui nesse arquivo você pode encontrar vários exemplos de como utilizar alguns métodos e funções e pra quê cada um serve"
   ],
   "metadata": {}
  },
  {
   "cell_type": "markdown",
   "source": [
    "### Linspace \n",
    "numpy.linspace(start, stop, num=50, endpoint=True, retstep=False, dtype=None, axis=0, *, device=None)[source]\n",
    "Return evenly spaced numbers over a specified interval.\n",
    "\n",
    "Returns num evenly spaced samples, calculated over the interval [start, stop].\n",
    "\n",
    "The endpoint of the interval can optionally be excluded."
   ],
   "metadata": {}
  },
  {
   "cell_type": "code",
   "execution_count": 12,
   "source": [
    "import numpy as np\n",
    "\n",
    "# Basic usage of linspace to create an array from 0 to 100 with 5 elements\n",
    "linspace_example = np.linspace(0, 100.0, 5)\n",
    "linspace_example # Return example"
   ],
   "outputs": [
    {
     "output_type": "execute_result",
     "data": {
      "text/plain": [
       "array([  0.,  25.,  50.,  75., 100.])"
      ]
     },
     "metadata": {},
     "execution_count": 12
    }
   ],
   "metadata": {}
  },
  {
   "cell_type": "markdown",
   "source": [
    "### NP Arrange\n",
    "\n",
    "The arange([start,] stop[, step,][, dtype]) : Returns an array with evenly spaced elements as per the interval. The interval mentioned is half-opened i.e. [Start, Stop) "
   ],
   "metadata": {}
  },
  {
   "cell_type": "code",
   "execution_count": 13,
   "source": [
    "# Python Programming illustrating\n",
    "# numpy.arange method\n",
    " \n",
    "import numpy as np\n",
    " \n",
    "# Printing all numbers from 1 to \n",
    "# 2 in steps of 0.1\n",
    "print(np.arange(1, 2, 0.1))"
   ],
   "outputs": [
    {
     "output_type": "stream",
     "name": "stdout",
     "text": [
      "[1.  1.1 1.2 1.3 1.4 1.5 1.6 1.7 1.8 1.9]\n"
     ]
    }
   ],
   "metadata": {}
  },
  {
   "cell_type": "code",
   "execution_count": 14,
   "source": [
    "from matplotlib import pyplot as plt\n",
    "\n",
    "v0 = 1.0 \n",
    "a = -2 \n",
    "t = np.linspace(0, 10, 50)\n",
    "v = v0 + a * t # faz uma distributiva automaticamente\n",
    "\n",
    "fig = plt.figure(figsize=(3,3))\n",
    "plt.plot(t,v)\n",
    "print(t)\n",
    "print(v)"
   ],
   "outputs": [
    {
     "output_type": "stream",
     "name": "stdout",
     "text": [
      "[ 0.          0.20408163  0.40816327  0.6122449   0.81632653  1.02040816\n",
      "  1.2244898   1.42857143  1.63265306  1.83673469  2.04081633  2.24489796\n",
      "  2.44897959  2.65306122  2.85714286  3.06122449  3.26530612  3.46938776\n",
      "  3.67346939  3.87755102  4.08163265  4.28571429  4.48979592  4.69387755\n",
      "  4.89795918  5.10204082  5.30612245  5.51020408  5.71428571  5.91836735\n",
      "  6.12244898  6.32653061  6.53061224  6.73469388  6.93877551  7.14285714\n",
      "  7.34693878  7.55102041  7.75510204  7.95918367  8.16326531  8.36734694\n",
      "  8.57142857  8.7755102   8.97959184  9.18367347  9.3877551   9.59183673\n",
      "  9.79591837 10.        ]\n",
      "[  1.           0.59183673   0.18367347  -0.2244898   -0.63265306\n",
      "  -1.04081633  -1.44897959  -1.85714286  -2.26530612  -2.67346939\n",
      "  -3.08163265  -3.48979592  -3.89795918  -4.30612245  -4.71428571\n",
      "  -5.12244898  -5.53061224  -5.93877551  -6.34693878  -6.75510204\n",
      "  -7.16326531  -7.57142857  -7.97959184  -8.3877551   -8.79591837\n",
      "  -9.20408163  -9.6122449  -10.02040816 -10.42857143 -10.83673469\n",
      " -11.24489796 -11.65306122 -12.06122449 -12.46938776 -12.87755102\n",
      " -13.28571429 -13.69387755 -14.10204082 -14.51020408 -14.91836735\n",
      " -15.32653061 -15.73469388 -16.14285714 -16.55102041 -16.95918367\n",
      " -17.36734694 -17.7755102  -18.18367347 -18.59183673 -19.        ]\n"
     ]
    },
    {
     "output_type": "display_data",
     "data": {
      "image/png": "[encoded data removed]",
      "text/plain": [
       "<Figure size 300x300 with 1 Axes>"
      ]
     },
     "metadata": {}
    }
   ],
   "metadata": {}
  },
  {
   "cell_type": "markdown",
   "source": [
    "### Manipulação de Listas e Arrays"
   ],
   "metadata": {}
  },
  {
   "cell_type": "code",
   "execution_count": 15,
   "source": [
    "b = [2,4,6,8]\n",
    "print(\"b: \",b * 13) # multiplica a lista 13 vezes\n",
    "\n",
    "b_array = np.array(b)\n",
    "print(\"b_array: \",b_array * 13) # distributiva"
   ],
   "outputs": [
    {
     "output_type": "stream",
     "name": "stdout",
     "text": [
      "b:  [2, 4, 6, 8, 2, 4, 6, 8, 2, 4, 6, 8, 2, 4, 6, 8, 2, 4, 6, 8, 2, 4, 6, 8, 2, 4, 6, 8, 2, 4, 6, 8, 2, 4, 6, 8, 2, 4, 6, 8, 2, 4, 6, 8, 2, 4, 6, 8, 2, 4, 6, 8]\n",
      "b_array:  [ 26  52  78 104]\n"
     ]
    }
   ],
   "metadata": {}
  },
  {
   "cell_type": "markdown",
   "source": [
    "### Listas"
   ],
   "metadata": {}
  },
  {
   "cell_type": "code",
   "execution_count": 16,
   "source": [
    "l1 = []\n",
    "l1.append(0) # adicionar\n",
    "l1.append(b_array)\n",
    "l1.append((2,3))\n",
    "print(l1)"
   ],
   "outputs": [
    {
     "output_type": "stream",
     "name": "stdout",
     "text": [
      "[0, array([2, 4, 6, 8]), (2, 3)]\n"
     ]
    }
   ],
   "metadata": {}
  },
  {
   "cell_type": "markdown",
   "source": [
    "### Tuplas"
   ],
   "metadata": {}
  },
  {
   "cell_type": "code",
   "execution_count": 17,
   "source": [
    "c = (2, 4, 6)\n",
    "\n",
    "print(2 * c)"
   ],
   "outputs": [
    {
     "output_type": "stream",
     "name": "stdout",
     "text": [
      "(2, 4, 6, 2, 4, 6)\n"
     ]
    }
   ],
   "metadata": {}
  },
  {
   "cell_type": "markdown",
   "source": [
    "### Leitura de dados"
   ],
   "metadata": {}
  },
  {
   "cell_type": "code",
   "execution_count": 27,
   "source": [
    "import pandas as pd \n",
    "\n",
    "url = \"https://raw.githubusercontent.com/pjasimoes/PIPythonData/main/acelerometro.csv\"\n",
    "data = pd.read_csv(url,sep=\",\") # use sep=\",\" for coma separation. \n",
    "\n",
    "data #data frames "
   ],
   "outputs": [
    {
     "output_type": "execute_result",
     "data": {
      "text/html": [
       "<div>\n",
       "<style scoped>\n",
       "    .dataframe tbody tr th:only-of-type {\n",
       "        vertical-align: middle;\n",
       "    }\n",
       "\n",
       "    .dataframe tbody tr th {\n",
       "        vertical-align: top;\n",
       "    }\n",
       "\n",
       "    .dataframe thead th {\n",
       "        text-align: right;\n",
       "    }\n",
       "</style>\n",
       "<table border=\"1\" class=\"dataframe\">\n",
       "  <thead>\n",
       "    <tr style=\"text-align: right;\">\n",
       "      <th></th>\n",
       "      <th>Time (s)</th>\n",
       "      <th>Acceleration x (m/s^2)</th>\n",
       "      <th>Acceleration y (m/s^2)</th>\n",
       "      <th>Acceleration z (m/s^2)</th>\n",
       "      <th>Absolute acceleration (m/s^2)</th>\n",
       "    </tr>\n",
       "  </thead>\n",
       "  <tbody>\n",
       "    <tr>\n",
       "      <th>0</th>\n",
       "      <td>0.029033</td>\n",
       "      <td>-0.094543</td>\n",
       "      <td>-0.014725</td>\n",
       "      <td>9.742279</td>\n",
       "      <td>9.742749</td>\n",
       "    </tr>\n",
       "    <tr>\n",
       "      <th>1</th>\n",
       "      <td>0.034038</td>\n",
       "      <td>-0.093338</td>\n",
       "      <td>-0.041061</td>\n",
       "      <td>9.827271</td>\n",
       "      <td>9.827800</td>\n",
       "    </tr>\n",
       "    <tr>\n",
       "      <th>2</th>\n",
       "      <td>0.039012</td>\n",
       "      <td>-0.076584</td>\n",
       "      <td>-0.018326</td>\n",
       "      <td>9.839249</td>\n",
       "      <td>9.839564</td>\n",
       "    </tr>\n",
       "    <tr>\n",
       "      <th>3</th>\n",
       "      <td>0.043987</td>\n",
       "      <td>-0.099319</td>\n",
       "      <td>-0.021912</td>\n",
       "      <td>9.827271</td>\n",
       "      <td>9.827797</td>\n",
       "    </tr>\n",
       "    <tr>\n",
       "      <th>4</th>\n",
       "      <td>0.048961</td>\n",
       "      <td>-0.114883</td>\n",
       "      <td>0.006821</td>\n",
       "      <td>9.830872</td>\n",
       "      <td>9.831545</td>\n",
       "    </tr>\n",
       "    <tr>\n",
       "      <th>...</th>\n",
       "      <td>...</td>\n",
       "      <td>...</td>\n",
       "      <td>...</td>\n",
       "      <td>...</td>\n",
       "      <td>...</td>\n",
       "    </tr>\n",
       "    <tr>\n",
       "      <th>2000</th>\n",
       "      <td>9.990488</td>\n",
       "      <td>-0.104111</td>\n",
       "      <td>-0.011139</td>\n",
       "      <td>9.820099</td>\n",
       "      <td>9.820657</td>\n",
       "    </tr>\n",
       "    <tr>\n",
       "      <th>2001</th>\n",
       "      <td>9.995462</td>\n",
       "      <td>-0.090942</td>\n",
       "      <td>-0.038666</td>\n",
       "      <td>9.793762</td>\n",
       "      <td>9.794261</td>\n",
       "    </tr>\n",
       "    <tr>\n",
       "      <th>2002</th>\n",
       "      <td>10.000467</td>\n",
       "      <td>-0.092148</td>\n",
       "      <td>-0.009933</td>\n",
       "      <td>9.771011</td>\n",
       "      <td>9.771451</td>\n",
       "    </tr>\n",
       "    <tr>\n",
       "      <th>2003</th>\n",
       "      <td>10.005441</td>\n",
       "      <td>-0.095734</td>\n",
       "      <td>-0.030289</td>\n",
       "      <td>9.815308</td>\n",
       "      <td>9.815821</td>\n",
       "    </tr>\n",
       "    <tr>\n",
       "      <th>2004</th>\n",
       "      <td>10.010415</td>\n",
       "      <td>-0.089752</td>\n",
       "      <td>-0.024307</td>\n",
       "      <td>9.817703</td>\n",
       "      <td>9.818144</td>\n",
       "    </tr>\n",
       "  </tbody>\n",
       "</table>\n",
       "<p>2005 rows × 5 columns</p>\n",
       "</div>"
      ],
      "text/plain": [
       "       Time (s)  Acceleration x (m/s^2)  Acceleration y (m/s^2)  \\\n",
       "0      0.029033               -0.094543               -0.014725   \n",
       "1      0.034038               -0.093338               -0.041061   \n",
       "2      0.039012               -0.076584               -0.018326   \n",
       "3      0.043987               -0.099319               -0.021912   \n",
       "4      0.048961               -0.114883                0.006821   \n",
       "...         ...                     ...                     ...   \n",
       "2000   9.990488               -0.104111               -0.011139   \n",
       "2001   9.995462               -0.090942               -0.038666   \n",
       "2002  10.000467               -0.092148               -0.009933   \n",
       "2003  10.005441               -0.095734               -0.030289   \n",
       "2004  10.010415               -0.089752               -0.024307   \n",
       "\n",
       "      Acceleration z (m/s^2)  Absolute acceleration (m/s^2)  \n",
       "0                   9.742279                       9.742749  \n",
       "1                   9.827271                       9.827800  \n",
       "2                   9.839249                       9.839564  \n",
       "3                   9.827271                       9.827797  \n",
       "4                   9.830872                       9.831545  \n",
       "...                      ...                            ...  \n",
       "2000                9.820099                       9.820657  \n",
       "2001                9.793762                       9.794261  \n",
       "2002                9.771011                       9.771451  \n",
       "2003                9.815308                       9.815821  \n",
       "2004                9.817703                       9.818144  \n",
       "\n",
       "[2005 rows x 5 columns]"
      ]
     },
     "metadata": {},
     "execution_count": 27
    }
   ],
   "metadata": {}
  },
  {
   "cell_type": "code",
   "execution_count": 28,
   "source": [
    "data.describe()"
   ],
   "outputs": [
    {
     "output_type": "execute_result",
     "data": {
      "text/html": [
       "<div>\n",
       "<style scoped>\n",
       "    .dataframe tbody tr th:only-of-type {\n",
       "        vertical-align: middle;\n",
       "    }\n",
       "\n",
       "    .dataframe tbody tr th {\n",
       "        vertical-align: top;\n",
       "    }\n",
       "\n",
       "    .dataframe thead th {\n",
       "        text-align: right;\n",
       "    }\n",
       "</style>\n",
       "<table border=\"1\" class=\"dataframe\">\n",
       "  <thead>\n",
       "    <tr style=\"text-align: right;\">\n",
       "      <th></th>\n",
       "      <th>Time (s)</th>\n",
       "      <th>Acceleration x (m/s^2)</th>\n",
       "      <th>Acceleration y (m/s^2)</th>\n",
       "      <th>Acceleration z (m/s^2)</th>\n",
       "      <th>Absolute acceleration (m/s^2)</th>\n",
       "    </tr>\n",
       "  </thead>\n",
       "  <tbody>\n",
       "    <tr>\n",
       "      <th>count</th>\n",
       "      <td>2005.000000</td>\n",
       "      <td>2005.000000</td>\n",
       "      <td>2005.000000</td>\n",
       "      <td>2005.000000</td>\n",
       "      <td>2005.000000</td>\n",
       "    </tr>\n",
       "    <tr>\n",
       "      <th>mean</th>\n",
       "      <td>5.019831</td>\n",
       "      <td>-0.091659</td>\n",
       "      <td>-0.014710</td>\n",
       "      <td>9.819970</td>\n",
       "      <td>9.820428</td>\n",
       "    </tr>\n",
       "    <tr>\n",
       "      <th>std</th>\n",
       "      <td>2.883526</td>\n",
       "      <td>0.013873</td>\n",
       "      <td>0.013491</td>\n",
       "      <td>0.017807</td>\n",
       "      <td>0.017808</td>\n",
       "    </tr>\n",
       "    <tr>\n",
       "      <th>min</th>\n",
       "      <td>0.029033</td>\n",
       "      <td>-0.136429</td>\n",
       "      <td>-0.056625</td>\n",
       "      <td>9.742279</td>\n",
       "      <td>9.742749</td>\n",
       "    </tr>\n",
       "    <tr>\n",
       "      <th>25%</th>\n",
       "      <td>2.524486</td>\n",
       "      <td>-0.101715</td>\n",
       "      <td>-0.024307</td>\n",
       "      <td>9.808121</td>\n",
       "      <td>9.808623</td>\n",
       "    </tr>\n",
       "    <tr>\n",
       "      <th>50%</th>\n",
       "      <td>5.019908</td>\n",
       "      <td>-0.092148</td>\n",
       "      <td>-0.014725</td>\n",
       "      <td>9.820099</td>\n",
       "      <td>9.820592</td>\n",
       "    </tr>\n",
       "    <tr>\n",
       "      <th>75%</th>\n",
       "      <td>7.515147</td>\n",
       "      <td>-0.082565</td>\n",
       "      <td>-0.005157</td>\n",
       "      <td>9.832062</td>\n",
       "      <td>9.832576</td>\n",
       "    </tr>\n",
       "    <tr>\n",
       "      <th>max</th>\n",
       "      <td>10.010415</td>\n",
       "      <td>-0.033493</td>\n",
       "      <td>0.031952</td>\n",
       "      <td>9.879944</td>\n",
       "      <td>9.880444</td>\n",
       "    </tr>\n",
       "  </tbody>\n",
       "</table>\n",
       "</div>"
      ],
      "text/plain": [
       "          Time (s)  Acceleration x (m/s^2)  Acceleration y (m/s^2)  \\\n",
       "count  2005.000000             2005.000000             2005.000000   \n",
       "mean      5.019831               -0.091659               -0.014710   \n",
       "std       2.883526                0.013873                0.013491   \n",
       "min       0.029033               -0.136429               -0.056625   \n",
       "25%       2.524486               -0.101715               -0.024307   \n",
       "50%       5.019908               -0.092148               -0.014725   \n",
       "75%       7.515147               -0.082565               -0.005157   \n",
       "max      10.010415               -0.033493                0.031952   \n",
       "\n",
       "       Acceleration z (m/s^2)  Absolute acceleration (m/s^2)  \n",
       "count             2005.000000                    2005.000000  \n",
       "mean                 9.819970                       9.820428  \n",
       "std                  0.017807                       0.017808  \n",
       "min                  9.742279                       9.742749  \n",
       "25%                  9.808121                       9.808623  \n",
       "50%                  9.820099                       9.820592  \n",
       "75%                  9.832062                       9.832576  \n",
       "max                  9.879944                       9.880444  "
      ]
     },
     "metadata": {},
     "execution_count": 28
    }
   ],
   "metadata": {}
  },
  {
   "cell_type": "markdown",
   "source": [
    "### Nome/ Título das colunas"
   ],
   "metadata": {}
  },
  {
   "cell_type": "code",
   "execution_count": 29,
   "source": [
    "keys = data.keys()\n",
    "print(keys)"
   ],
   "outputs": [
    {
     "output_type": "stream",
     "name": "stdout",
     "text": [
      "Index(['Time (s)', 'Acceleration x (m/s^2)', 'Acceleration y (m/s^2)',\n",
      "       'Acceleration z (m/s^2)', 'Absolute acceleration (m/s^2)'],\n",
      "      dtype='object')\n"
     ]
    }
   ],
   "metadata": {}
  },
  {
   "cell_type": "markdown",
   "source": [
    "### Vamos analisar um gráfico que nos mostra o ruído que envolve a aceleração pelo tempo, oscilando pela aceleração da prórpia gravidade"
   ],
   "metadata": {}
  },
  {
   "cell_type": "code",
   "execution_count": 32,
   "source": [
    "time = data['Time (s)']\n",
    "acceleration = data['Acceleration z (m/s^2)']\n",
    "plt.plot(time,acceleration)"
   ],
   "outputs": [
    {
     "output_type": "execute_result",
     "data": {
      "text/plain": [
       "[<matplotlib.lines.Line2D at 0x7fa54dd78af0>]"
      ]
     },
     "metadata": {},
     "execution_count": 32
    },
    {
     "output_type": "display_data",
     "data": {
      "image/png": "[encoded data removed]",
      "text/plain": [
       "<Figure size 640x480 with 1 Axes>"
      ]
     },
     "metadata": {}
    }
   ],
   "metadata": {}
  },
  {
   "cell_type": "code",
   "execution_count": 33,
   "source": [
    "print(data.mean())"
   ],
   "outputs": [
    {
     "output_type": "stream",
     "name": "stdout",
     "text": [
      "Time (s)                         5.019831\n",
      "Acceleration x (m/s^2)          -0.091659\n",
      "Acceleration y (m/s^2)          -0.014710\n",
      "Acceleration z (m/s^2)           9.819970\n",
      "Absolute acceleration (m/s^2)    9.820428\n",
      "dtype: float64\n"
     ]
    }
   ],
   "metadata": {}
  },
  {
   "cell_type": "markdown",
   "source": [
    "O . A função std() calcula o desvio padrão de dados fornecidos ao longo de um eixo especificado. Um desvio padrão é uma medida estatística que indica a distribuição de uma distribuição de dados, representada por uma matriz, ao longo de um eixo especificado"
   ],
   "metadata": {}
  },
  {
   "cell_type": "code",
   "execution_count": 38,
   "source": [
    "print(data[keys[3]].mean(),data[keys[3]].std()) # assumimos que o ruído é gaussiano\n",
    "plt.hist(data[keys[3]], edgecolor = 'black') # o histograma, mostra em barras, quanto você tem de cada valor na basa de dados \n",
    "plt.axvline(data[keys[3]].mean(), color = 'red') # vemos que a média está próxima ao centro dos valores do histograma, o que significa que os ruídos são aleatórios, não conseguimos prevê-los"
   ],
   "outputs": [
    {
     "output_type": "stream",
     "name": "stdout",
     "text": [
      "9.81997049002494 0.017807346239170685\n"
     ]
    },
    {
     "output_type": "execute_result",
     "data": {
      "text/plain": [
       "<matplotlib.lines.Line2D at 0x7fa54cbf9970>"
      ]
     },
     "metadata": {},
     "execution_count": 38
    },
    {
     "output_type": "display_data",
     "data": {
      "image/png": "[encoded data removed]",
      "text/plain": [
       "<Figure size 640x480 with 1 Axes>"
      ]
     },
     "metadata": {}
    }
   ],
   "metadata": {}
  },
  {
   "cell_type": "markdown",
   "source": [
    "A distribuição gaussiana, também conhecida como distribuição normal, é uma distribuição de probabilidade contínua e simétrica que representa o comportamento de um fenómeno natural de forma aleatória. É uma das distribuições teóricas e práticas mais importantes e é muito utilizada na inferência estatística"
   ],
   "metadata": {}
  },
  {
   "cell_type": "code",
   "execution_count": 1,
   "source": [
    "import numpy as np\n",
    "\n",
    "# Suponha que você tenha o seguinte array\n",
    "array = np.array([10, 20, 30, 40, 50, 60, 70, 80, 90, 100])\n",
    "\n",
    "# Defina o intervalo de posições\n",
    "start = 2\n",
    "end = 6\n",
    "\n",
    "# \"Cortar\" o array usando o intervalo\n",
    "corte_array = array[start:end]\n",
    "\n",
    "print(\"Array Original:\", array)\n",
    "print(\"Array Cortado:\", corte_array)"
   ],
   "outputs": [
    {
     "output_type": "stream",
     "name": "stdout",
     "text": [
      "Array Original: [ 10  20  30  40  50  60  70  80  90 100]\n",
      "Array Cortado: [30 40 50 60]\n"
     ]
    }
   ],
   "metadata": {}
  },
  {
   "cell_type": "code",
   "execution_count": 2,
   "source": [
    "import numpy as np\n",
    "\n",
    "# Suponha que você tenha o seguinte array\n",
    "array = np.array([10, 20, 30, 40, 50, 60, 70, 80, 90, 100])\n",
    "\n",
    "# Encontrar o índice do maior valor\n",
    "indice_maximo = np.argmax(array)\n",
    "\n",
    "print(\"Array Original:\", array)\n",
    "print(\"Índice do Maior Valor:\", indice_maximo)\n",
    "print(\"Maior Valor:\", array[indice_maximo])"
   ],
   "outputs": [
    {
     "output_type": "stream",
     "name": "stdout",
     "text": [
      "Array Original: [ 10  20  30  40  50  60  70  80  90 100]\n",
      "Índice do Maior Valor: 9\n",
      "Maior Valor: 100\n"
     ]
    }
   ],
   "metadata": {}
  }
 ],
 "metadata": {
  "orig_nbformat": 4,
  "language_info": {
   "name": "python",
   "version": "3.9.10",
   "mimetype": "text/x-python",
   "codemirror_mode": {
    "name": "ipython",
    "version": 3
   },
   "pygments_lexer": "ipython3",
   "nbconvert_exporter": "python",
   "file_extension": ".py"
  },
  "kernelspec": {
   "name": "python3",
   "display_name": "Python 3.9.10 64-bit"
  },
  "interpreter": {
   "hash": "aee8b7b246df8f9039afb4144a1f6fd8d2ca17a180786b69acc140d282b71a49"
  }
 },
 "nbformat": 4,
 "nbformat_minor": 2
}